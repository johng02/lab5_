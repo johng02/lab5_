{
  "nbformat": 4,
  "nbformat_minor": 0,
  "metadata": {
    "colab": {
      "provenance": [],
      "include_colab_link": true
    },
    "kernelspec": {
      "name": "python3",
      "display_name": "Python 3"
    },
    "language_info": {
      "name": "python"
    }
  },
  "cells": [
    {
      "cell_type": "markdown",
      "metadata": {
        "id": "view-in-github",
        "colab_type": "text"
      },
      "source": [
        "<a href=\"https://colab.research.google.com/github/johng02/lab5_/blob/john/Laboratorio_5_2.ipynb\" target=\"_parent\"><img src=\"https://colab.research.google.com/assets/colab-badge.svg\" alt=\"Open In Colab\"/></a>"
      ]
    },
    {
      "cell_type": "markdown",
      "source": [
        "# **Laboratorio 5: Planteamiento y solución de problemas de optimización**\n",
        "**Facultad de ingeniería, departamento de Ingeniería Biomédica, Universidad de los Andes**\\\n",
        "**IBIO-2440 Programación científica**"
      ],
      "metadata": {
        "id": "aiVyYM0UZ9Cg"
      }
    },
    {
      "cell_type": "markdown",
      "source": [
        "**Nombres de los integrantes**\n",
        "\n",
        "\n",
        "1.   Nombre integrante 1\n",
        "2.   Nombre integrante 2\n",
        "\n",
        "**Número del grupo**\n",
        "\n",
        "*Escribir el número del grupo*\n"
      ],
      "metadata": {
        "id": "aTJOo3lnar5X"
      }
    },
    {
      "cell_type": "markdown",
      "source": [
        "Los problemas de optimización se consituyen de seis aspectos esenciales: variables de decisión, función objetivo, región factible, restricciones, criterios de optimalidad y métodos de solución tanto analíticos como numéricos. En general, un problema de optimización se resuelve mediante métodos numéricos debido a la complejidad matemática que conlleva modelar un problema real. La mayoría de estos métodos ya vienen implementados en librerías asociadas a lenguajes de programación, por lo que, en un principio, solucionar problemas de optimización genéricos consiste en usar una librería de optimización adecuada. En Python, existen múltiples librerias de optimización. Sin embargo, la más usada y desarrollada es SciPy, la cual no solo permite resolver problemas de optimización, sino también problemas de cálculo, procesaminto de señales e imágenes, álgebra lineal, entre muchos otros. \n",
        "\n",
        "El plantamiento de un problema de optimización se puede dividir en dos grandes ramas; problemas lineales y no lineales, los cuales también se conocen como: programación lineal y programación no lineal. En este sentido, este laboratorio consiste en plantear, analizar y solucionar un problema lineal. Para esto, es necesaria una breve introducción teórica. Un problema de optimización se modela matemáticamente mediante una función objetivo, la cual debe mapear un espacio de $n$ dimensiones y arrojar un valor escalar, es decir, sea $f:\\mathbb{R}^n \\rightarrow \\mathbb{R}$, luego, esta función de desea minimizar o maximizar dependiendo del contexto del problema. Encontrar un mínimo de una función, sea local o global, en general modela un problema real, debido a que esta función está sujeta a restricciones. Estas últimas se plantean con ecuaciones o inecuaciones adicionales asociadas a las variables independientes. En el caso de la programación lineal, se plantean mediante un sistema de ecuaciones o inecuaciones, de la forma:\n",
        "\n",
        "\\begin{align*}\n",
        "  Ax \\leq B\n",
        "\\end{align*}\n",
        "\n",
        "Donde $A$ es la matriz de coeficientes, $x$ el vector de variables y $B$ el vector de restricciones. Luego, un problema de programación lineal se plantea de la forma:\n",
        "\n",
        "\\begin{align*}\n",
        "  \\min_x f(x)\n",
        "\\end{align*}\n",
        "\n",
        "o\n",
        "\n",
        "\\begin{align*}\n",
        "  \\max_x f(x)\n",
        "\\end{align*}\n",
        "\n",
        "Sujeto a\n",
        "\n",
        "\\begin{align*}\n",
        "  Ax \\leq B\n",
        "\\end{align*}\n",
        "\n",
        "Además, en general, se define $x \\geq 0$"
      ],
      "metadata": {
        "id": "OambcLreVN_P"
      }
    },
    {
      "cell_type": "markdown",
      "source": [
        "# **Programación lineal**\n",
        "\n",
        "En programación lineal, debido a su simplicidad, existen varias formas de resolver un problema de optimización. En este caso se va a trabajar con dos, una con una interpretación gráfica y otra con el uso de la función *linprog* de la librería *optimize* de *spicy*. El problema es el siguiente:\n",
        "\n",
        "Un paciente ha sufrido un accidente que le impidió realizar ejercicio durante un año, por lo que, inevitablemente, subió de peso considerablemente. Este paciente acude al nutricionista con el objetivo de retomar el ejercicio y volver a su estado físico de antes. El paciente indica que tiene afición por tres tipos de ejercicio: montar bicicleta, ir al gimnasio y nadar, con los cuales puede consumir 300, 600 y 900 por hora calorías respectivamente. Dado que lleva mucho tiempo sin realizar ejercicio y aparte se ha recuperado de una lesión, debe cumplir ciertas restricciones:\n",
        "\n",
        "- No puede realizar más de 4 horas de ejercicio al día\n",
        "- El paciente tiene preferecia por el gimnasio, por lo que quiere gastar al menos un tercio del tiempo a la semana en este ejercicio\n",
        "- Se le recomienda montar bibicleta al menos una hora al día para acelerar la recuperación de la lesión\n",
        "\n",
        "Usted desea maximizar el consumo de calorias por semana.\n",
        "\n",
        "1. Plantee el problema de optimización como un problema de programación lineal\n"
      ],
      "metadata": {
        "id": "mXzu0AXFn90N"
      }
    },
    {
      "cell_type": "markdown",
      "source": [
        "***Escriba aquí la función objetivo, las variables de decisión con su significado y las restricciones con sus descripciones asociadas***\n",
        "\n",
        "\n",
        "\n"
      ],
      "metadata": {
        "id": "4sZcmfUdPYvv"
      }
    },
    {
      "cell_type": "markdown",
      "source": [
        "2. Resuelva el problema usando la función *linprog* de la librería optimize con método simplex"
      ],
      "metadata": {
        "id": "xMp-7hZzQT-W"
      }
    },
    {
      "cell_type": "code",
      "source": [
        "import scipy.optimize as opt\n",
        "import numpy as np\n",
        "C=np.array([600,300,900])\n",
        "A=np.array([[1,1,1],\n",
        "           [-1,0,0],\n",
        "           [0,-1,0],\n",
        "            ])\n",
        "B=np.array([28,\n",
        "            -28/3,\n",
        "            -7])\n",
        "x0_bnds=(0,28)\n",
        "x1_bnds=(0,28)\n",
        "x2_bnds=(0,28)\n",
        "\n",
        "res=opt.linprog(-C,A_ub=A, b_ub=B, bounds=(x0_bnds, x1_bnds,x2_bnds))\n",
        "\n",
        "print(res)"
      ],
      "metadata": {
        "id": "3IbTzblgQbNd",
        "colab": {
          "base_uri": "https://localhost:8080/"
        },
        "outputId": "04458b0e-cfd3-4dc2-915a-4e6269edbb99"
      },
      "execution_count": null,
      "outputs": [
        {
          "output_type": "stream",
          "name": "stdout",
          "text": [
            "     con: array([], dtype=float64)\n",
            "     fun: -18199.999999959808\n",
            " message: 'Optimization terminated successfully.'\n",
            "     nit: 6\n",
            "   slack: array([4.39257519e-11, 1.65911729e-12, 2.70006240e-13])\n",
            "  status: 0\n",
            " success: True\n",
            "       x: array([ 9.33333333,  7.        , 11.66666667])\n"
          ]
        }
      ]
    },
    {
      "cell_type": "markdown",
      "source": [
        "3. Resuelva el problema pero ahora usando la función *minimize* de la librería *optimize*. Esta función requiere una condición inicial, escójala de forma que cumpla las restricciones.\n",
        "\n"
      ],
      "metadata": {
        "id": "WFR808tlAwMZ"
      }
    },
    {
      "cell_type": "code",
      "source": [
        "#definir fución y multiplicar por -\n",
        "def fun(X):\n",
        "  x1=X[0]\n",
        "  x2=X[1]\n",
        "  x3=X[2]\n",
        "  z=x1*600+x2*300+x3*900\n",
        "  return -z\n",
        "\n",
        "#definir punto de partida desde 0\n",
        "X_start=[0,0,0]\n",
        "#X_start1=[28/3,7,11]\n",
        "#definir limitaciónes\n",
        "\n",
        "cons=({\"type\":\"eq\",\"fun\":lambda X: X[0]+X[1]+X[2]-28})\n",
        "#Bounds\n",
        "bnds=((28/3,28),(7,28),(0,28))\n",
        "#optimizar\n",
        "\n",
        "res=opt.minimize(fun, X_start, constraints=cons,bounds=bnds)\n",
        "#res1=opt.minimize(fun, X_start1, constraints=cons,bounds=bnds)\n",
        "\n",
        "#imprimir\n",
        "print(res)\n",
        "#print(res1.x)"
      ],
      "metadata": {
        "id": "nmV-dXyiJJD1",
        "colab": {
          "base_uri": "https://localhost:8080/"
        },
        "outputId": "56478b21-5c3b-46c8-d04a-e75c9a1c3bfc"
      },
      "execution_count": null,
      "outputs": [
        {
          "output_type": "stream",
          "name": "stdout",
          "text": [
            "     fun: -18200.000007351337\n",
            "     jac: array([-600., -300., -900.])\n",
            " message: 'Optimization terminated successfully'\n",
            "    nfev: 19\n",
            "     nit: 3\n",
            "    njev: 2\n",
            "  status: 0\n",
            " success: True\n",
            "       x: array([ 9.33333333,  7.        , 11.66666667])\n"
          ]
        }
      ]
    },
    {
      "cell_type": "markdown",
      "source": [
        "4. Verifique que la solución cumple las restricciones"
      ],
      "metadata": {
        "id": "lJpZpf0JDWgc"
      }
    },
    {
      "cell_type": "code",
      "source": [
        "#verificar restricción - toca correr la zelda anterior antes de esta\n",
        "\n",
        "X_opt=res.x\n",
        "x1_opt=X_opt[0]\n",
        "x2_opt=X_opt[1]\n",
        "x3_opt=X_opt[2]\n",
        "\n",
        "print(x1_opt,x2_opt,x3_opt)\n",
        "#restriciónes\n",
        "\n",
        "a=x1_opt+x2_opt+x3_opt<=28\n",
        "b=x1_opt>=28/3\n",
        "c=x2_opt>=7\n",
        "print(\"si consideramos los valores redonededos al final para se un valor typo floatl las condiciones:\", a,b,c)\n",
        "print(\"ya que x1+x2+x3=\",x1_opt+x2_opt+x3_opt)\n",
        "if a==True and b==True and c==True:\n",
        "  print(\"Nice!\")\n",
        "  print(\" pues si se cumple todo\")\n",
        "\n",
        "\n",
        "print(\"sin embargo si lo cosideramos una aproximación\")\n",
        "#osea.........el valor real para que se cumpan todas las condiciones es un valor con decimlaes infinitos, sin embargo esta es una muy buena proximación\n",
        "\n",
        "#verificar restricción - toca correr la zelda anterior antes de esta\n",
        "\n",
        "#restriciónes\n",
        "\n",
        "a1=x1_opt+x2_opt+x3_opt<=28.00000001\n",
        "b=x1_opt>=28/3\n",
        "c=x2_opt>=7\n",
        "\n",
        "if a1==True and b==True and c==True:\n",
        "  print(\"Nice!, todo se culape:\",a1,b,c)\n",
        "  print(\" pues, no cumple una condición por 0.0000000008... pero es una apriximación con un error basicamente irrelenvate\")\n",
        "\n",
        "\n",
        "\n"
      ],
      "metadata": {
        "id": "sovlHpd2DotA",
        "colab": {
          "base_uri": "https://localhost:8080/"
        },
        "outputId": "efa778c7-cfb5-4021-9110-6927f7da8022"
      },
      "execution_count": null,
      "outputs": [
        {
          "output_type": "stream",
          "name": "stdout",
          "text": [
            "9.333333333457158 7.0 11.66666667475227\n",
            "si consideramos los valores redonededos al final para se un valor typo floatl las condiciones: False True True\n",
            "ya que x1+x2+x3= 28.000000008209426\n",
            "sin embargo si lo cosideramos una aproximación\n",
            "Nice!, todo se culape: True True True\n",
            " pues, no cumple una condición por 0.0000000008... pero es una apriximación con un error basicamente irrelenvate\n"
          ]
        }
      ]
    },
    {
      "cell_type": "markdown",
      "source": [
        "5. Si hay más puntos que cumple las restricciones, encuéntrelos, si no, indique que no hay más.\n",
        "\n",
        "Ayuda: el número de puntos que cumplen las restriciones se calcula mediante la fórmula:\n",
        "\n",
        "\\begin{align*}\n",
        "  \\frac{n!}{m!(n-m)!}\n",
        "\\end{align*}\n",
        "\n",
        "Donde $n$ es el número de variables y $m$ el número de restricciones"
      ],
      "metadata": {
        "id": "HBwUjRjNDpGT"
      }
    },
    {
      "cell_type": "code",
      "source": [
        "import scipy.optimize as opt\n",
        "import numpy as np\n",
        "C=np.array([600,300,900])\n",
        "A=np.array([[1,1,1],\n",
        "           [-1,0,0],\n",
        "           [0,-1,0],\n",
        "            ])\n",
        "B=np.array([28,\n",
        "            -28/3,\n",
        "            -7])\n",
        "x0_bnds=(0,28)\n",
        "x1_bnds=(0,28)\n",
        "x2_bnds=(0,28)\n",
        "\n",
        "n_variables = len(C)\n",
        "n_restricciones = len(B)\n",
        "n_puntos = int(np.math.factorial(n_variables) / (np.math.factorial(n_restricciones) * np.math.factorial(n_variables - n_restricciones)))\n",
        "print(f\"Número de puntos que cumplen las restricciones: {n_puntos}\")"
      ],
      "metadata": {
        "id": "Fl_E4d65DyXA",
        "colab": {
          "base_uri": "https://localhost:8080/"
        },
        "outputId": "1778da2b-cc5e-4d2a-ebac-714a9ab78ade"
      },
      "execution_count": 1,
      "outputs": [
        {
          "output_type": "stream",
          "name": "stdout",
          "text": [
            "Número de puntos que cumplen las restricciones: 1\n"
          ]
        }
      ]
    },
    {
      "cell_type": "markdown",
      "source": [],
      "metadata": {
        "id": "nKTE9CgHmfWP"
      }
    },
    {
      "cell_type": "markdown",
      "source": [
        "6. Compare el método por *linprog* y *minimize*. Verifique el número de iteraciones, ¿cuál es el más preciso?, ¿cuál es más eficiente?"
      ],
      "metadata": {
        "id": "nCk19LSXGL6o"
      }
    },
    {
      "cell_type": "code",
      "source": [],
      "metadata": {
        "id": "f23_NFaXGq5X"
      },
      "execution_count": null,
      "outputs": []
    }
  ]
}