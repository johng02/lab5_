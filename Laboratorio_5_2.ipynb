{
  "nbformat": 4,
  "nbformat_minor": 0,
  "metadata": {
    "colab": {
      "provenance": [],
      "include_colab_link": true
    },
    "kernelspec": {
      "name": "python3",
      "display_name": "Python 3"
    },
    "language_info": {
      "name": "python"
    }
  },
  "cells": [
    {
      "cell_type": "markdown",
      "metadata": {
        "id": "view-in-github",
        "colab_type": "text"
      },
      "source": [
        "<a href=\"https://colab.research.google.com/github/johng02/lab5_/blob/john/Laboratorio_5_2.ipynb\" target=\"_parent\"><img src=\"https://colab.research.google.com/assets/colab-badge.svg\" alt=\"Open In Colab\"/></a>"
      ]
    },
    {
      "cell_type": "markdown",
      "source": [
        "# **Laboratorio 5: Planteamiento y solución de problemas de optimización**\n",
        "**Facultad de ingeniería, departamento de Ingeniería Biomédica, Universidad de los Andes**\\\n",
        "**IBIO-2440 Programación científica**"
      ],
      "metadata": {
        "id": "aiVyYM0UZ9Cg"
      }
    },
    {
      "cell_type": "markdown",
      "source": [
        "**Nombres de los integrantes**\n",
        "\n",
        "\n",
        "1.   Nombre integrante 1\n",
        "2.   John gomez\n",
        "\n",
        "\n",
        "**Número del grupo**\n",
        "\n",
        "*Escribir el número del grupo*\n"
      ],
      "metadata": {
        "id": "aTJOo3lnar5X"
      }
    },
    {
      "cell_type": "markdown",
      "source": [
        "Los problemas de optimización se consituyen de seis aspectos esenciales: variables de decisión, función objetivo, región factible, restricciones, criterios de optimalidad y métodos de solución tanto analíticos como numéricos. En general, un problema de optimización se resuelve mediante métodos numéricos debido a la complejidad matemática que conlleva modelar un problema real. La mayoría de estos métodos ya vienen implementados en librerías asociadas a lenguajes de programación, por lo que, en un principio, solucionar problemas de optimización genéricos consiste en usar una librería de optimización adecuada. En Python, existen múltiples librerias de optimización. Sin embargo, la más usada y desarrollada es SciPy, la cual no solo permite resolver problemas de optimización, sino también problemas de cálculo, procesaminto de señales e imágenes, álgebra lineal, entre muchos otros. \n",
        "\n",
        "El plantamiento de un problema de optimización se puede dividir en dos grandes ramas; problemas lineales y no lineales, los cuales también se conocen como: programación lineal y programación no lineal. En este sentido, este laboratorio consiste en plantear, analizar y solucionar un problema lineal. Para esto, es necesaria una breve introducción teórica. Un problema de optimización se modela matemáticamente mediante una función objetivo, la cual debe mapear un espacio de $n$ dimensiones y arrojar un valor escalar, es decir, sea $f:\\mathbb{R}^n \\rightarrow \\mathbb{R}$, luego, esta función de desea minimizar o maximizar dependiendo del contexto del problema. Encontrar un mínimo de una función, sea local o global, en general modela un problema real, debido a que esta función está sujeta a restricciones. Estas últimas se plantean con ecuaciones o inecuaciones adicionales asociadas a las variables independientes. En el caso de la programación lineal, se plantean mediante un sistema de ecuaciones o inecuaciones, de la forma:\n",
        "\n",
        "\\begin{align*}\n",
        "  Ax \\leq B\n",
        "\\end{align*}\n",
        "\n",
        "Donde $A$ es la matriz de coeficientes, $x$ el vector de variables y $B$ el vector de restricciones. Luego, un problema de programación lineal se plantea de la forma:\n",
        "\n",
        "\\begin{align*}\n",
        "  \\min_x f(x)\n",
        "\\end{align*}\n",
        "\n",
        "o\n",
        "\n",
        "\\begin{align*}\n",
        "  \\max_x f(x)\n",
        "\\end{align*}\n",
        "\n",
        "Sujeto a\n",
        "\n",
        "\\begin{align*}\n",
        "  Ax \\leq B\n",
        "\\end{align*}\n",
        "\n",
        "Además, en general, se define $x \\geq 0$"
      ],
      "metadata": {
        "id": "OambcLreVN_P"
      }
    },
    {
      "cell_type": "markdown",
      "source": [
        "# **Programación lineal**\n",
        "\n",
        "En programación lineal, debido a su simplicidad, existen varias formas de resolver un problema de optimización. En este caso se va a trabajar con dos, una con una interpretación gráfica y otra con el uso de la función *linprog* de la librería *optimize* de *spicy*. El problema es el siguiente:\n",
        "\n",
        "Un paciente ha sufrido un accidente que le impidió realizar ejercicio durante un año, por lo que, inevitablemente, subió de peso considerablemente. Este paciente acude al nutricionista con el objetivo de retomar el ejercicio y volver a su estado físico de antes. El paciente indica que tiene afición por tres tipos de ejercicio: montar bicicleta, ir al gimnasio y nadar, con los cuales puede consumir 300, 600 y 900 por hora calorías respectivamente. Dado que lleva mucho tiempo sin realizar ejercicio y aparte se ha recuperado de una lesión, debe cumplir ciertas restricciones:\n",
        "\n",
        "- No puede realizar más de 4 horas de ejercicio al día\n",
        "- El paciente tiene preferecia por el gimnasio, por lo que quiere gastar al menos un tercio del tiempo a la semana en este ejercicio\n",
        "- Se le recomienda montar bibicleta al menos una hora al día para acelerar la recuperación de la lesión\n",
        "\n",
        "Usted desea maximizar el consumo de calorias por semana.\n",
        "\n",
        "1. Plantee el problema de optimización como un problema de programación lineal\n"
      ],
      "metadata": {
        "id": "mXzu0AXFn90N"
      }
    },
    {
      "cell_type": "code",
      "source": [
        "import scipy.optimize as opt\n",
        "import numpy as np\n",
        "#coeficientes de la funcion objetivo\n",
        "C=np.array([600,300,900])\n",
        "#Matriz de coeficientes de las restricciones\n",
        "A=np.array([[1,1,1],\n",
        "           [-1,0,0],\n",
        "           [0,-1,0],\n",
        "            ])\n",
        "#Vector de restricciones\n",
        "B=np.array([28,\n",
        "            -28/3,\n",
        "            -7])\n",
        "     "
      ],
      "metadata": {
        "id": "TynY69VtPiEL"
      },
      "execution_count": 1,
      "outputs": []
    },
    {
      "cell_type": "markdown",
      "source": [
        "***Escriba aquí la función objetivo, las variables de decisión con su significado y las restricciones con sus descripciones asociadas***\n",
        "\n",
        "\n",
        "\n"
      ],
      "metadata": {
        "id": "4sZcmfUdPYvv"
      }
    },
    {
      "cell_type": "markdown",
      "source": [
        "2. Resuelva el problema usando la función *linprog* de la librería optimize con método simplex"
      ],
      "metadata": {
        "id": "xMp-7hZzQT-W"
      }
    },
    {
      "cell_type": "code",
      "source": [
        "import scipy.optimize as opt\n",
        "import numpy as np\n",
        "C=np.array([600,300,900])\n",
        "A=np.array([[1,1,1],\n",
        "           [-1,0,0],\n",
        "           [0,-1,0],\n",
        "            ])\n",
        "B=np.array([28,\n",
        "            -28/3,\n",
        "            -7])\n",
        "x0_bnds=(0,28)\n",
        "x1_bnds=(0,28)\n",
        "x2_bnds=(0,28)\n",
        "\n",
        "res=opt.linprog(-C,A_ub=A, b_ub=B, bounds=(x0_bnds, x1_bnds,x2_bnds),options={\"disp\":True})\n",
        "\n",
        "print(res)\n",
        "\n",
        "X_opt1=res.x\n",
        "x1_opt1=X_opt1[0]\n",
        "x2_opt1=X_opt1[1]\n",
        "x3_opt1=X_opt1[2]"
      ],
      "metadata": {
        "id": "3IbTzblgQbNd",
        "colab": {
          "base_uri": "https://localhost:8080/"
        },
        "outputId": "652611e4-8fdd-42eb-d34c-62b43907b056"
      },
      "execution_count": null,
      "outputs": [
        {
          "output_type": "stream",
          "name": "stdout",
          "text": [
            "Primal Feasibility  Dual Feasibility    Duality Gap         Step             Path Parameter      Objective          \n",
            "1.0                 1.0                 1.0                 -                1.0                 -9500.0             \n",
            "0.07173738722943    0.07173738722943    0.07173738722941    0.9315829836101  0.07173738722946    -10476.43770904     \n",
            "0.008630003044263   0.008630003044263   0.008630003044261   0.918302246763   0.008630003044267   -12786.26065426     \n",
            "0.001089627990898   0.001089627990898   0.001089627990898   0.8865454647884  0.001089627990899   -16635.23908936     \n",
            "9.56794070886e-06   9.56794070889e-06   9.567940708889e-06  0.9917721666332  9.567940708971e-06  -18184.11788913     \n",
            "4.847859157505e-10  4.84785898425e-10   4.847858985347e-10  0.9999493371649  4.847967865426e-10  -18199.99919401     \n",
            "2.506176913889e-14  2.418486090544e-14  2.418768045467e-14  0.9999501121307  2.423983631476e-14  -18199.99999996     \n",
            "Optimization terminated successfully.\n",
            "         Current function value: -18200.000000\n",
            "         Iterations: 6\n",
            "     con: array([], dtype=float64)\n",
            "     fun: -18199.999999959808\n",
            " message: 'Optimization terminated successfully.'\n",
            "     nit: 6\n",
            "   slack: array([4.39257519e-11, 1.65911729e-12, 2.70006240e-13])\n",
            "  status: 0\n",
            " success: True\n",
            "       x: array([ 9.33333333,  7.        , 11.66666667])\n"
          ]
        }
      ]
    },
    {
      "cell_type": "markdown",
      "source": [
        "3. Resuelva el problema pero ahora usando la función *minimize* de la librería *optimize*. Esta función requiere una condición inicial, escójala de forma que cumpla las restricciones.\n",
        "\n"
      ],
      "metadata": {
        "id": "WFR808tlAwMZ"
      }
    },
    {
      "cell_type": "code",
      "source": [
        "#definir fución y multiplicar por -\n",
        "def fun(X):\n",
        "  x1=X[0]\n",
        "  x2=X[1]\n",
        "  x3=X[2]\n",
        "  z=x1*600+x2*300+x3*900\n",
        "  return -z\n",
        "\n",
        "#definir punto de partida desde 0\n",
        "X_start=[0,0,0]\n",
        "#X_start1=[28/3,7,11]\n",
        "#definir limitaciónes\n",
        "\n",
        "cons=({\"type\":\"eq\",\"fun\":lambda X: X[0]+X[1]+X[2]-28})\n",
        "#Bounds\n",
        "bnds=((28/3,28),(7,28),(0,28))\n",
        "#optimizar\n",
        "\n",
        "res=opt.minimize(fun, X_start, constraints=cons,bounds=bnds, options={\"disp\":True})\n",
        "#res1=opt.minimize(fun, X_start1, constraints=cons,bounds=bnds)\n",
        "\n",
        "#imprimir\n",
        "print(res)\n",
        "#print(res1.x)"
      ],
      "metadata": {
        "id": "nmV-dXyiJJD1",
        "colab": {
          "base_uri": "https://localhost:8080/"
        },
        "outputId": "3ba20f5b-855d-4a58-ceff-be9d299d642f"
      },
      "execution_count": null,
      "outputs": [
        {
          "output_type": "stream",
          "name": "stdout",
          "text": [
            "Optimization terminated successfully    (Exit mode 0)\n",
            "            Current function value: -18200.000007351337\n",
            "            Iterations: 3\n",
            "            Function evaluations: 19\n",
            "            Gradient evaluations: 2\n",
            "     fun: -18200.000007351337\n",
            "     jac: array([-600., -300., -900.])\n",
            " message: 'Optimization terminated successfully'\n",
            "    nfev: 19\n",
            "     nit: 3\n",
            "    njev: 2\n",
            "  status: 0\n",
            " success: True\n",
            "       x: array([ 9.33333333,  7.        , 11.66666667])\n"
          ]
        }
      ]
    },
    {
      "cell_type": "markdown",
      "source": [
        "4. Verifique que la solución cumple las restricciones"
      ],
      "metadata": {
        "id": "lJpZpf0JDWgc"
      }
    },
    {
      "cell_type": "code",
      "source": [
        "#verificar restricción - toca correr la zelda anterior antes de esta\n",
        "\n",
        "X_opt=res.x\n",
        "x1_opt=X_opt[0]\n",
        "x2_opt=X_opt[1]\n",
        "x3_opt=X_opt[2]\n",
        "\n",
        "print(x1_opt,x2_opt,x3_opt)\n",
        "#restriciónes\n",
        "\n",
        "a=x1_opt+x2_opt+x3_opt<=28\n",
        "b=x1_opt>=28/3\n",
        "c=x2_opt>=7\n",
        "print(\"si consideramos los valores redonededos al final para se un valor typo floatl las condiciones:\", a,b,c)\n",
        "print(\"ya que x1+x2+x3=\",x1_opt+x2_opt+x3_opt)\n",
        "if a==True and b==True and c==True:\n",
        "  print(\"Nice!\")\n",
        "  print(\" pues si se cumple todo\")\n",
        "\n",
        "\n",
        "print(\"sin embargo si lo cosideramos una aproximación\")\n",
        "#osea.........el valor real para que se cumpan todas las condiciones es un valor con decimlaes infinitos, sin embargo esta es una muy buena proximación\n",
        "\n",
        "#verificar restricción - toca correr la zelda anterior antes de esta\n",
        "\n",
        "#restriciónes\n",
        "\n",
        "a1=x1_opt+x2_opt+x3_opt<=28.00000001\n",
        "b=x1_opt>=28/3\n",
        "c=x2_opt>=7\n",
        "\n",
        "if a1==True and b==True and c==True:\n",
        "  print(\"Nice!, todo se culape:\",a1,b,c)\n",
        "  print(\" pues, no cumple una condición por 0.0000000008... pero es una apriximación con un error basicamente irrelenvate\")\n",
        "\n",
        "\n",
        "\n"
      ],
      "metadata": {
        "id": "sovlHpd2DotA",
        "colab": {
          "base_uri": "https://localhost:8080/"
        },
        "outputId": "7adc15ea-6f8b-46c8-f51b-db72ac2dd7ae"
      },
      "execution_count": null,
      "outputs": [
        {
          "output_type": "stream",
          "name": "stdout",
          "text": [
            "9.333333333457158 7.0 11.66666667475227\n",
            "si consideramos los valores redonededos al final para se un valor typo floatl las condiciones: False True True\n",
            "ya que x1+x2+x3= 28.000000008209426\n",
            "sin embargo si lo cosideramos una aproximación\n",
            "Nice!, todo se culape: True True True\n",
            " pues, no cumple una condición por 0.0000000008... pero es una apriximación con un error basicamente irrelenvate\n"
          ]
        }
      ]
    },
    {
      "cell_type": "markdown",
      "source": [
        "5. Si hay más puntos que cumple las restricciones, encuéntrelos, si no, indique que no hay más.\n",
        "\n",
        "Ayuda: el número de puntos que cumplen las restriciones se calcula mediante la fórmula:\n",
        "\n",
        "\\begin{align*}\n",
        "  \\frac{n!}{m!(n-m)!}\n",
        "\\end{align*}\n",
        "\n",
        "Donde $n$ es el número de variables y $m$ el número de restricciones"
      ],
      "metadata": {
        "id": "HBwUjRjNDpGT"
      }
    },
    {
      "cell_type": "code",
      "source": [
        "import scipy.optimize as opt\n",
        "import numpy as np\n",
        "C=np.array([600,300,900])\n",
        "A=np.array([[1,1,1],\n",
        "           [-1,0,0],\n",
        "           [0,-1,0],\n",
        "            ])\n",
        "B=np.array([28,\n",
        "            -28/3,\n",
        "            -7])\n",
        "x0_bnds=(0,28)\n",
        "x1_bnds=(0,28)\n",
        "x2_bnds=(0,28)\n",
        "\n",
        "n_variables = len(C)\n",
        "n_restricciones = len(B)\n",
        "n_puntos = int(np.math.factorial(n_variables) / (np.math.factorial(n_restricciones) * np.math.factorial(n_variables - n_restricciones)))\n",
        "print(f\"Número de puntos que cumplen las restricciones: {n_puntos}\")\n",
        "\n",
        "\n",
        "\n",
        "\n",
        "\n",
        "#equacion\n",
        "\n",
        "import math as ma\n",
        "n=3\n",
        "m=3\n",
        "\n",
        "puntos=ma.factorial(n)/(ma.factorial(m)*ma.factorial(n-m))\n",
        "\n",
        "\n",
        "print(puntos)\n"
      ],
      "metadata": {
        "id": "Fl_E4d65DyXA",
        "colab": {
          "base_uri": "https://localhost:8080/"
        },
        "outputId": "4f4da5ac-a811-4858-8e91-10a85ac3bf0c"
      },
      "execution_count": null,
      "outputs": [
        {
          "output_type": "stream",
          "name": "stdout",
          "text": [
            "Número de puntos que cumplen las restricciones: 1\n",
            "1.0\n"
          ]
        }
      ]
    },
    {
      "cell_type": "markdown",
      "source": [],
      "metadata": {
        "id": "nKTE9CgHmfWP"
      }
    },
    {
      "cell_type": "markdown",
      "source": [
        "6. Compare el método por *linprog* y *minimize*. Verifique el número de iteraciones, ¿cuál es el más preciso?, ¿cuál es más eficiente?"
      ],
      "metadata": {
        "id": "nCk19LSXGL6o"
      }
    },
    {
      "cell_type": "code",
      "source": [
        "a=\"\"\" la compración es dificl,\n",
        " ya que se pueden agregarle una varidead de characteristicas adicionales a cada fución para hacer el proceso mas eficiente.\n",
        " Con X0=0 en minimize y sin poner un valor x0 en linprog se puede comparar de la siguiente manera:\n",
        "\n",
        "iteraciónes:\n",
        " linprog:6\n",
        " minimize:3\n",
        "\n",
        "precición valor f(x)\n",
        " linprog: 18200.000000\n",
        " minimize:18200.000007351337\n",
        "x1,x2,x3 Valores:\n",
        " linprog[{},{},{}]\n",
        " minimize[{},{},{}]\n",
        "x1+x2+x3 total:\n",
        " linprog: {}\n",
        " minimize:{}\n",
        "Error en valores x1,x2,x3:\n",
        " linprog: [{}%,{}%,{}%]\n",
        " minimize:[{}%,{}%,{}%]\n",
        "\n",
        "\n",
        "los valores son muy parecidos entre sí, ambos errores frete el valor real son despreciables, para X2 la fución mas presziza fue minimizar y para los demas fue linprog.\n",
        "Sin embargo, esto cambia si cambiamos el valasor de de X0 [intital guess]. sin embargo para X0=[0,0,0] se pude asumir que en este caso linprog fue un poco más preciso.\n",
        "\n",
        "En el caso de la eficiencía no tengo claro que tanto procesamiento cosumio cada programa, como dicho anterior mente minimize tuvo la mitad de las iteraciónes,\n",
        "por lo que se puede considerar más eficiente sin embargo para segurar esta afirmación tocaría hacer un anñisis de la cantidad de sup procesos que se dieron.\n",
        "ahora en termino de cual es más facil de utilizar me parece que Minimize es más facil directo y intuitivo.   \n",
        "\n",
        " \"\"\"\n",
        "g1=x1_opt1\n",
        "g2=x2_opt1\n",
        "g3=x3_opt1\n",
        "g4=x1_opt\n",
        "g5=x2_opt\n",
        "g6=x3_opt\n",
        "g7=g1+g2+g3\n",
        "g8=g4+g5+g6\n",
        "g9=((g1-(28/3))/(28/3))*100\n",
        "g10=((g2-7)/(7))*100\n",
        "g11=((g3-(28-(28/3)-7))/(28-(28/3)-7))*100\n",
        "g12=((g4-(28/3))/(28/3))*100\n",
        "g13=((g5-7)/(7))*100\n",
        "g14=((g6-(28-(28/3)-7))/(28-(28/3)-7))*100\n",
        "print(a.format(g1,g2,g3,g4,g5,g6,g7,g8,g9,g10,g11,g12,g13,g14))"
      ],
      "metadata": {
        "id": "f23_NFaXGq5X",
        "colab": {
          "base_uri": "https://localhost:8080/"
        },
        "outputId": "3bf04cc7-be44-4a98-a6bc-b70c4c13410b"
      },
      "execution_count": null,
      "outputs": [
        {
          "output_type": "stream",
          "name": "stdout",
          "text": [
            " la compración es dificl,\n",
            " ya que se pueden agregarle una varidead de characteristicas adicionales a cada fución para hacer el proceso mas eficiente.\n",
            " Con X0=0 en minimize y sin poner un valor x0 en linprog se puede comparar de la siguiente manera:\n",
            "\n",
            "iteraciónes:\n",
            " linprog:6\n",
            " minimize:3\n",
            "\n",
            "precición valor f(x)\n",
            " linprog: 18200.000000\n",
            " minimize:18200.000007351337\n",
            "x1,x2,x3 Valores:\n",
            " linprog[9.333333333334993,7.00000000000027,11.666666666620815]\n",
            " minimize[9.333333333457158,7.0,11.66666667475227]\n",
            "x1+x2+x3 total:\n",
            " linprog: 27.999999999956074\n",
            " minimize:28.000000008209426\n",
            "Error en valores x1,x2,x3:\n",
            " linprog: [1.7776256657141077e-11%,3.857231994126258e-12%,-3.9299611184365606e-10%]\n",
            " minimize:[1.3266911379007848e-09%,0.0%,6.93051863517472e-08%]\n",
            "\n",
            "\n",
            "los valores son muy parecidos entre sí, ambos errores frete el valor real son despreciables, para X2 la fución mas presziza fue minimizar y para los demas fue linprog.\n",
            "Sin embargo, esto cambia si cambiamos el valasor de de X0 [intital guess]. sin embargo para X0=[0,0,0] se pude asumir que en este caso linprog fue un poco más preciso.\n",
            "\n",
            "En el caso de la eficiencía no tengo claro que tanto procesamiento cosumio cada programa, como dicho anterior mente minimize tuvo la mitad de las iteraciónes,\n",
            "por lo que se puede considerar más eficiente sin embargo para segurar esta afirmación tocaría hacer un anñisis de la cantidad de sup procesos que se dieron.\n",
            "ahora en termino de cual es más facil de utilizar me parece que Minimize es más facil directo y intuitivo.   \n",
            "\n",
            " \n"
          ]
        }
      ]
    }
  ]
}